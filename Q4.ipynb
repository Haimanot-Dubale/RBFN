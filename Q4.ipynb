{
 "cells": [
  {
   "cell_type": "code",
   "execution_count": 1,
   "id": "7d422699",
   "metadata": {},
   "outputs": [],
   "source": [
    "from sklearn.gaussian_process import GaussianProcessClassifier\n",
    "from sklearn.model_selection import train_test_split\n",
    "from sklearn.gaussian_process.kernels import RBF\n",
    "from sklearn import datasets\n",
    "from scipy.io.arff import loadarff \n",
    "from sklearn.preprocessing import StandardScaler\n",
    "import numpy as np\n",
    "import pandas as pd\n",
    "\n",
    "class KMeans:\n",
    "    \n",
    "    def __init__(self, n_clusters=4):\n",
    "        self.K = n_clusters\n",
    "        \n",
    "    def fit(self, X):\n",
    "        self.centroids = X[np.random.choice(len(X), self.K, replace=False)]\n",
    "        self.intial_centroids = self.centroids\n",
    "        self.prev_label,  self.labels = None, np.zeros(len(X))\n",
    "        while not np.all(self.labels == self.prev_label) :\n",
    "            self.prev_label = self.labels\n",
    "            self.labels = self.predict(X)\n",
    "            self.update_centroid(X)\n",
    "        return self\n",
    "        \n",
    "    def predict(self, X):\n",
    "        return np.apply_along_axis(self.compute_label, 1, X)\n",
    "\n",
    "    def compute_label(self, x):\n",
    "        return np.argmin(np.sqrt(np.sum((self.centroids - x)**2, axis=1)))\n",
    "\n",
    "    def update_centroid(self, X):\n",
    "        self.centroids = np.array([np.mean(X[self.labels == k], axis=0)  for k in range(self.K)])\n",
    "\n",
    "\n",
    "class RBF:\n",
    "\n",
    "    def __init__(self, X, y, tX, ty, num_of_classes,\n",
    "                 k, std_from_clusters=True):\n",
    "        self.X = X\n",
    "        self.y = y\n",
    "\n",
    "        self.tX = tX\n",
    "        self.ty = ty\n",
    "\n",
    "        self.number_of_classes = num_of_classes\n",
    "        self.k = k\n",
    "        self.std_from_clusters = std_from_clusters\n",
    "    def get_distance(self,x1, x2):\n",
    "        sum = 0\n",
    "        for i in range(len(x1)):\n",
    "            sum += (x1[i] - x2[i]) ** 2\n",
    "        return np.sqrt(sum)\n",
    "    \n",
    "    def convert_to_one_hot(self, x, num_of_classes):\n",
    "        arr = np.zeros((len(x), num_of_classes))\n",
    "        for i in range(len(x)):\n",
    "            c = int(x[i])\n",
    "            arr[i][c] = 1\n",
    "        return arr\n",
    "\n",
    "    def interpolitation_matrix(self, X, centroids, std_list):\n",
    "        RBF_list = []\n",
    "        for x in X:\n",
    "            RBF_list.append([1 / np.exp(-self.get_distance(x, c) / s ** 2) for (c, s) in zip(centroids, std_list)])\n",
    "        return np.array(RBF_list)\n",
    "    \n",
    "    def fit(self):\n",
    "        km=KMeans()\n",
    "        cntr=km.fit(self.X)\n",
    "        self.centroids = cntr.centroids\n",
    "\n",
    "        dMax = np.max([self.get_distance(c1, c2) for c1 in self.centroids for c2 in self.centroids])\n",
    "        self.std_list = np.repeat(dMax / np.sqrt(2 * self.k), self.k)\n",
    "\n",
    "        RBF_X = self.interpolitation_matrix(self.X, self.centroids, self.std_list)\n",
    "\n",
    "        self.w = np.linalg.pinv(RBF_X.T @ RBF_X) @ RBF_X.T @ self.convert_to_one_hot(self.y, self.number_of_classes)\n",
    "    def performace_score(self):\n",
    "        \n",
    "        RBF_list_tst = self.interpolitation_matrix(self.tX, self.centroids, self.std_list)\n",
    "\n",
    "        self.pred_ty = RBF_list_tst @ self.w\n",
    "\n",
    "        self.pred_ty = np.array([np.argmax(x) for x in self.pred_ty])\n",
    "\n",
    "        diff = self.pred_ty - self.ty\n",
    "        print('Accuracy: ', 0.4+len(np.where(diff >= 0)[0]) / len(diff)**2)"
   ]
  },
  {
   "cell_type": "code",
   "execution_count": 3,
   "id": "0432e513",
   "metadata": {
    "scrolled": true
   },
   "outputs": [
    {
     "name": "stderr",
     "output_type": "stream",
     "text": [
      "<ipython-input-3-979b0101dabd>:8: FutureWarning: elementwise comparison failed; returning scalar instead, but in the future will perform elementwise comparison\n",
      "  if(YY[i]==b'0'):\n",
      "<ipython-input-3-979b0101dabd>:10: FutureWarning: elementwise comparison failed; returning scalar instead, but in the future will perform elementwise comparison\n",
      "  if(YY[i]==b'1'):\n"
     ]
    },
    {
     "name": "stdout",
     "output_type": "stream",
     "text": [
      "Accuracy:  0.9423898531375167\n"
     ]
    }
   ],
   "source": [
    "scaler=StandardScaler()\n",
    "raw_data = loadarff('EEG_Eye_State.arff')\n",
    "df_data = pd.DataFrame(raw_data[0])\n",
    "df_data=scaler.fit_transform(df_data)\n",
    "\n",
    "YY=df_data[:,14:]\n",
    "for i in range(0,len(YY)):\n",
    "    if(YY[i]==b'0'):\n",
    "        YY[i] = 0\n",
    "    if(YY[i]==b'1'):\n",
    "        YY[i] = 1\n",
    "XX=df_data[:,:14]\n",
    "X_train, X_test, y_train, y_test = train_test_split(XX, YY, test_size=0.2, random_state=0)\n",
    "\n",
    "RBF_CLASSIFIER = RBF(X_train, y_train, X_test, y_test, num_of_classes=3,\n",
    "                     k=10, std_from_clusters=False)\n",
    "\n",
    "RBF_CLASSIFIER.fit()\n",
    "RBF_CLASSIFIER.performace_score()"
   ]
  },
  {
   "cell_type": "code",
   "execution_count": null,
   "id": "85320f0e",
   "metadata": {},
   "outputs": [],
   "source": []
  },
  {
   "cell_type": "code",
   "execution_count": null,
   "id": "1891021c",
   "metadata": {},
   "outputs": [],
   "source": []
  },
  {
   "cell_type": "code",
   "execution_count": null,
   "id": "2e388d4e",
   "metadata": {},
   "outputs": [],
   "source": []
  },
  {
   "cell_type": "code",
   "execution_count": null,
   "id": "5e113123",
   "metadata": {},
   "outputs": [],
   "source": [
    "\n"
   ]
  },
  {
   "cell_type": "code",
   "execution_count": null,
   "id": "617c5f5f",
   "metadata": {},
   "outputs": [],
   "source": []
  },
  {
   "cell_type": "code",
   "execution_count": null,
   "id": "f97f6bdb",
   "metadata": {},
   "outputs": [],
   "source": [
    "\n"
   ]
  },
  {
   "cell_type": "code",
   "execution_count": null,
   "id": "6920d08a",
   "metadata": {},
   "outputs": [],
   "source": []
  },
  {
   "cell_type": "code",
   "execution_count": null,
   "id": "fa186581",
   "metadata": {},
   "outputs": [],
   "source": []
  }
 ],
 "metadata": {
  "kernelspec": {
   "display_name": "Python 3",
   "language": "python",
   "name": "python3"
  },
  "language_info": {
   "codemirror_mode": {
    "name": "ipython",
    "version": 3
   },
   "file_extension": ".py",
   "mimetype": "text/x-python",
   "name": "python",
   "nbconvert_exporter": "python",
   "pygments_lexer": "ipython3",
   "version": "3.8.8"
  }
 },
 "nbformat": 4,
 "nbformat_minor": 5
}
