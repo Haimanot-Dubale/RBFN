{
 "cells": [
  {
   "cell_type": "code",
   "execution_count": 1,
   "id": "91a3a555",
   "metadata": {},
   "outputs": [],
   "source": [
    "from sklearn import datasets\n",
    "from sklearn.model_selection import train_test_split\n",
    "data =datasets.load_iris()\n",
    "import numpy as np\n",
    "x, y = data.data, data.target\n",
    "train_x,test_x,train_y,test_y=train_test_split(x,y,test_size=0.2,random_state=0)\n",
    "\n",
    "\n",
    "class RBF:\n",
    "\n",
    "    def __init__(self, X, y, tX, ty, num_of_classes,\n",
    "                 k):\n",
    "        self.X = X\n",
    "        self.y = y\n",
    "\n",
    "        self.tX = tX\n",
    "        self.ty = ty\n",
    "\n",
    "        self.number_of_classes = num_of_classes\n",
    "        self.k = k\n",
    "    def equil_distance(self,x1, x2):\n",
    "        sum = 0\n",
    "        for i in range(len(x1)):\n",
    "            sum += (x1[i] - x2[i]) ** 2\n",
    "        return np.sqrt(sum)\n",
    "    def find_center(self,X):\n",
    "        random_args = np.random.choice(len(X), 10)\n",
    "        centroids = X[random_args]\n",
    "        return np.array(centroids)\n",
    "    \n",
    "    def one_hot_repre(self, x, num_of_classes):\n",
    "        arr = np.zeros((len(x), num_of_classes))\n",
    "        for i in range(len(x)):\n",
    "            c = int(x[i])\n",
    "            arr[i][c] = 1\n",
    "        return arr\n",
    "    \n",
    "    def interpolitation_matrix(self, X, centroids, std_list):\n",
    "        RBF_list = []\n",
    "        for x in X:\n",
    "            RBF_list.append([1 / np.exp(-self.equil_distance(x, c) / s ** 2) for (c, s) in zip(centroids, std_list)])\n",
    "        return np.array(RBF_list)\n",
    "\n",
    "    def fit(self):\n",
    "\n",
    "        self.centroids = self.find_center(self.X)\n",
    "\n",
    "        dMax = np.max([self.equil_distance(c1, c2) for c1 in self.centroids for c2 in self.centroids])\n",
    "        self.std_list = np.repeat(dMax / np.sqrt(2 * self.k), self.k)\n",
    "\n",
    "        RBF_X = self.interpolitation_matrix(self.X, self.centroids, self.std_list)\n",
    "\n",
    "        self.w = np.linalg.pinv(RBF_X.T @ RBF_X) @ RBF_X.T @ self.one_hot_repre(self.y, self.number_of_classes)\n",
    "    def performace_score(self):\n",
    "        \n",
    "        RBF_list_tst = self.interpolitation_matrix(self.tX, self.centroids, self.std_list)\n",
    "\n",
    "        self.pred_ty = RBF_list_tst @ self.w\n",
    "\n",
    "        self.pred_ty = np.array([np.argmax(x) for x in self.pred_ty])\n",
    "\n",
    "        diff = self.pred_ty - self.ty\n",
    "\n",
    "        print('Accuracy: ', len(np.where(diff == 0)[0]) / len(diff))"
   ]
  },
  {
   "cell_type": "code",
   "execution_count": 2,
   "id": "f37c8fe5",
   "metadata": {},
   "outputs": [
    {
     "name": "stdout",
     "output_type": "stream",
     "text": [
      "Accuracy:  0.9333333333333333\n"
     ]
    }
   ],
   "source": [
    "\n",
    "RBF_CLASSIFIER = RBF(train_x, train_y, test_x, test_y, num_of_classes=3,k=16)\n",
    "\n",
    "RBF_CLASSIFIER.fit()\n",
    "RBF_CLASSIFIER.performace_score()"
   ]
  },
  {
   "cell_type": "code",
   "execution_count": null,
   "id": "a6b1c7dc",
   "metadata": {},
   "outputs": [],
   "source": []
  },
  {
   "cell_type": "code",
   "execution_count": null,
   "id": "4931f504",
   "metadata": {},
   "outputs": [],
   "source": []
  }
 ],
 "metadata": {
  "kernelspec": {
   "display_name": "Python 3",
   "language": "python",
   "name": "python3"
  },
  "language_info": {
   "codemirror_mode": {
    "name": "ipython",
    "version": 3
   },
   "file_extension": ".py",
   "mimetype": "text/x-python",
   "name": "python",
   "nbconvert_exporter": "python",
   "pygments_lexer": "ipython3",
   "version": "3.8.8"
  }
 },
 "nbformat": 4,
 "nbformat_minor": 5
}
