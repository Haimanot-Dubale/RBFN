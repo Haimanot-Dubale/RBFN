{
 "cells": [
  {
   "cell_type": "code",
   "execution_count": 1,
   "id": "863a55c3",
   "metadata": {},
   "outputs": [],
   "source": [
    "from sklearn.gaussian_process import GaussianProcessClassifier\n",
    "from sklearn.model_selection import train_test_split\n",
    "from sklearn.gaussian_process.kernels import RBF\n",
    "from sklearn import datasets\n",
    "import numpy as np\n",
    "import pandas as pd\n",
    "\n",
    "data =datasets.load_iris()\n",
    "\n",
    "\n",
    "x, y = data.data, data.target\n",
    "train_x,test_x,train_y,test_y=train_test_split(x,y,test_size=0.3,random_state=0)\n",
    "\n",
    "kernel = 1.0 * RBF(1.0)\n",
    "\n",
    "class MY_RBFN:\n",
    "\n",
    "    def __init__(self, X, y, tX, ty, num_of_classes,std_from_clusters=True):\n",
    "        self.X = X\n",
    "        self.y = y\n",
    "\n",
    "        self.tX = tX\n",
    "        self.ty = ty\n",
    "\n",
    "        self.number_of_classes = num_of_classes\n",
    "        self.std_from_clusters = std_from_clusters\n",
    "\n",
    "    def find_center(self,X):\n",
    "        return np.array(X)\n",
    "    \n",
    "    def equil_distance(self,x1, x2):\n",
    "        sum = 0\n",
    "        for i in range(len(x1)):\n",
    "            sum += (x1[i] - x2[i]) ** 2\n",
    "        return np.sqrt(sum)\n",
    "\n",
    "    def convert_to_one_hot(self, x, num_of_classes):\n",
    "        arr = np.zeros((len(x), num_of_classes))\n",
    "        for i in range(len(x)):\n",
    "            c = int(x[i])\n",
    "            arr[i][c] = 1\n",
    "        return arr\n",
    "\n",
    "    def interpolitation_matrix(self, X, centroids, std_list):\n",
    "        matrix_list = []\n",
    "        for x in X:\n",
    "            matrix_list.append([1 / np.exp(-self.equil_distance(x, c) / s ** 2) for (c, s) in zip(centroids, std_list)])\n",
    "        return np.array(matrix_list)\n",
    "\n",
    "    def fit(self):\n",
    "        self.centroids= self.find_center(self.X)\n",
    "        dMax = np.max([self.equil_distance(c1, c2) for c1 in self.centroids for c2 in self.centroids])\n",
    "        self.std_list = np.repeat(dMax / np.sqrt(2 * self.X),self.number_of_classes)\n",
    "        RBF_X = self.interpolitation_matrix(self.X, self.centroids, self.std_list)\n",
    "\n",
    "        self.w = np.linalg.pinv(RBF_X.T @ RBF_X) @ RBF_X.T @ self.convert_to_one_hot(self.y, self.number_of_classes)\n",
    "\n",
    "        RBF_list_tst = self.interpolitation_matrix(self.tX, self.centroids, self.std_list)\n",
    "\n",
    "        self.pred_ty = RBF_list_tst @ self.w\n",
    "\n",
    "    def performace_score(self):\n",
    "        \n",
    "        self.pred_ty = np.array([np.argmax(x) for x in self.pred_ty])\n",
    "\n",
    "        diff = self.pred_ty - self.ty\n",
    "\n",
    "        print('Our Custome Algorithm Accuracy:  ', len(np.where(diff == 0)[0]) / len(diff))"
   ]
  },
  {
   "cell_type": "code",
   "execution_count": 2,
   "id": "bd77eb32",
   "metadata": {},
   "outputs": [
    {
     "name": "stdout",
     "output_type": "stream",
     "text": [
      "Our Custome Algorithm Accuracy:   0.9777777777777777\n",
      "Python Built Algorithm  Accuracy: 0.9866666666666667\n"
     ]
    }
   ],
   "source": [
    "RBF_CLASSIFIER = MY_RBFN(train_x, train_y, test_x, test_y, num_of_classes=3, std_from_clusters=True)\n",
    "\n",
    "RBF_CLASSIFIER.fit()\n",
    "RBF_CLASSIFIER.performace_score()\n",
    "\n",
    "gpc = GaussianProcessClassifier(kernel=kernel,random_state=0).fit(x, y)\n",
    "print(\"Python Built Algorithm  Accuracy:\",gpc.score(x, y))"
   ]
  },
  {
   "cell_type": "code",
   "execution_count": null,
   "id": "e3e1c3ba",
   "metadata": {},
   "outputs": [],
   "source": []
  },
  {
   "cell_type": "code",
   "execution_count": null,
   "id": "61a1f9da",
   "metadata": {},
   "outputs": [],
   "source": []
  },
  {
   "cell_type": "code",
   "execution_count": null,
   "id": "d2e2a20a",
   "metadata": {},
   "outputs": [],
   "source": []
  },
  {
   "cell_type": "code",
   "execution_count": null,
   "id": "99de5ce8",
   "metadata": {},
   "outputs": [],
   "source": []
  },
  {
   "cell_type": "code",
   "execution_count": null,
   "id": "56ed01d9",
   "metadata": {},
   "outputs": [],
   "source": []
  }
 ],
 "metadata": {
  "kernelspec": {
   "display_name": "Python 3",
   "language": "python",
   "name": "python3"
  },
  "language_info": {
   "codemirror_mode": {
    "name": "ipython",
    "version": 3
   },
   "file_extension": ".py",
   "mimetype": "text/x-python",
   "name": "python",
   "nbconvert_exporter": "python",
   "pygments_lexer": "ipython3",
   "version": "3.8.8"
  }
 },
 "nbformat": 4,
 "nbformat_minor": 5
}
